{
 "cells": [
  {
   "cell_type": "markdown",
   "metadata": {},
   "source": [
    "<h1 align=\"center\"><b>1SPE_SVT - TP0 - METHODOLOGIE TECHNIQUE</b></h1>"
   ]
  },
  {
   "cell_type": "markdown",
   "metadata": {},
   "source": [
    "<p>\n",
    "    <font size=\"+2\"><b><u>Manipulation 1</u></b></font>\n",
    "</p>\n",
    "<p>\n",
    "    <i><u>Objectif 1 : réaliser une observation microscopique</u></i>\n",
    "</p>"
   ]
  },
  {
   "cell_type": "markdown",
   "metadata": {},
   "source": [
    "<p>\n",
    "    <b>Réaliser</b> l'observation d'une cellule buccale en choisissant le grossissement optimal.\n",
    "</p>"
   ]
  },
  {
   "cell_type": "markdown",
   "metadata": {},
   "source": [
    "<p style=\"text-align:center\">\n",
    "    <b>APPELER L'ENSEIGNANT POUR VERIFICATION</b>\n",
    "</p>"
   ]
  },
  {
   "cell_type": "markdown",
   "metadata": {},
   "source": [
    "<p>\n",
    "   <b>Photographier</b> votre observation.\n",
    "</p>"
   ]
  },
  {
   "cell_type": "markdown",
   "metadata": {},
   "source": [
    "<p>\n",
    "    <b>Analyser</b> le code <i>html</i> ci-dessous et l'éxécuter (bouton <b>Run</b>)\n",
    "</p>"
   ]
  },
  {
   "attachments": {
    "Elodee.jpg": {
     "image/jpeg": "[encoded data removed]"
    }
   },
   "cell_type": "markdown",
   "metadata": {},
   "source": [
    "![Elodee.jpg](attachment:Elodee.jpg) <!--intègre une image choisie-->\n",
    "<figcaption style=\"text-align:center\">Cellules d'élodée observées microscope optique (X400 - source : <a href=https://fr.wikipedia.org/wiki/%C3%89lod%C3%A9e)>wikipedia</a>) </figcaption> <!--ajoute une légende-->"
   ]
  },
  {
   "cell_type": "markdown",
   "metadata": {},
   "source": [
    "<p>\n",
    "      <b>Intégrer</b> la photographie à ce Notebook (cellule ci-desous) grâce à la fonction <b>\"Insert Image\"</b>  \n",
    "               située dans <b>\"Edit\"</b> ci-dessus.\n",
    "</p>"
   ]
  },
  {
   "attachments": {},
   "cell_type": "markdown",
   "metadata": {},
   "source": []
  },
  {
   "cell_type": "markdown",
   "metadata": {},
   "source": [
    "<p style=\"text-align:center\">\n",
    "    <b>APPELER L'ENSEIGNANT POUR VERIFICATION</b>\n",
    "</p>"
   ]
  },
  {
   "cell_type": "markdown",
   "metadata": {},
   "source": [
    "<p>\n",
    "    <font size=\"+2\"><b><u>Manipulation 2</u></b></font>\n",
    "</p>\n",
    "<p>\n",
    "    <i><u>Objectif 2 : réaliser un graphique à partir de donnée afin de les rendre exploitable en utilisant un tableur et  \n",
    "          du code Python</u></i>\n",
    "</p>"
   ]
  },
  {
   "cell_type": "markdown",
   "metadata": {},
   "source": [
    "<p>\n",
    "    Dans le fichier <i>méthodologie.xlsx</i>, à partir de l’onglet <b>Démographie</b>, en utilisant la fiche technique  \n",
    "    du tableur pour <i>Libre Office</i> ou <i>Microsoft Office</i>, <b>construire</b> le graphique de type dispersion, sous \n",
    "    <i>Libre Office</i>, ou nuage de points, sous <i>Microsoft Office</i>, donnant le nombre d’individus en fonction des \n",
    "    années pout toutes les tranches d'âge.\n",
    "</p>"
   ]
  },
  {
   "cell_type": "markdown",
   "metadata": {},
   "source": [
    "<p style=\"text-align:center\">\n",
    "    <b>APPELER L'ENSEIGNANT POUR VERIFICATION</b>\n",
    "</p>"
   ]
  },
  {
   "cell_type": "markdown",
   "metadata": {},
   "source": []
  },
  {
   "cell_type": "markdown",
   "metadata": {},
   "source": [
    "<p>\n",
    "    <b>Analyser</b> le code <i>Python</i> ci-dessous et l'éxécuter (bouton <b>Run</b>)\n",
    "</p>"
   ]
  },
  {
   "cell_type": "code",
   "execution_count": null,
   "metadata": {},
   "outputs": [],
   "source": [
    "# Importation des données de démographie que vous avez déjà traitées\n",
    "# sous excel et création une dataframe.\n",
    "\n",
    "import pandas as pd # importe la librairie pandas et utilise l'alias pd\n",
    "\n",
    "# création de la dataframe\n",
    "demographie = pd.read_excel('Methodologie.xlsx', sheet_name='Demographie', skiprows=3, usecols=range(0,5)) \n",
    "# met le fichier Excel désigné dans une dataframe nommée demographie.\n",
    "# on travaille sur l'onglet \"Demographie\" du fichier \"Methodologie.xlsx\". \n",
    "# la première ligne de la feuille Excel n'est pas prise en compte (d'où le skiprows)\n",
    "# Seules les colonnes 1 (année) à 5 (ensemble) sont utilisées.\n",
    "# La première colonne est numérotée 0 par Python. D'où le \"range(0,5)\"\n",
    "\n",
    "demographie=demographie.dropna()\n",
    "#enlève les valeurs manquantes\n",
    "\n",
    "# affichage la dataframe\n",
    "print(demographie) \n",
    "\n",
    "# La première colonne lisible dans la dataframe ci-dessous (chiffrée de 0 à 10) correspond à l'indexation des lignes de \n",
    "# la dataframe et aide\n",
    "# à localiser les cellules. La première ligne correspond à l'en-tête. Elle n'est pas comptabilisée et comporte les noms \n",
    "# des colonnes.\n",
    "# Donc, le fonctionnement de la dataframe est comparable à celle d'une feuille de tableur"
   ]
  },
  {
   "cell_type": "markdown",
   "metadata": {},
   "source": [
    "<p>\n",
    "    <b>Analyser</b> le code <i>Python</i> ci-dessous et l'éxécuter (bouton <b>Run</b>)\n",
    "</p>"
   ]
  },
  {
   "cell_type": "code",
   "execution_count": null,
   "metadata": {},
   "outputs": [],
   "source": [
    "# importation de la librairie matplotlib et son module pyplot spécialisé dans la création de graphique\n",
    "\n",
    "import matplotlib.pyplot as plt \n",
    "\n",
    "x1='Annee'                # x1 est une variable, soit une zone de stockage d'information\n",
    "y1= usecols=range(1,5)    # le fonctionnement de Python fait que l'on se doit de mettre 5 en limite supérieur. En effet,\n",
    "                          # le langage exclut le dernier élément de l'intervalle et garde le précédent\n",
    "\n",
    "# désignation des éléments à prendre en compte pour le grahique\n",
    "\n",
    "d1=demographie.plot(x1,y1)\n",
    "                                                         # utilise la dataframe \"demographie\" \n",
    "                                                         # pour construire un graphique avec\n",
    "                                                         # comme source de données la variable x1 qui est                                                         # pour le graphique en précisant que la colonne \"année\" \n",
    "                                                         # est en abscisse et la variable y1  concernant\n",
    "                                                         # les 4 tranches d'âge de \"population\" en\n",
    "                                                         # ordonnée\n",
    "                 \n",
    "# ajoute des titres au graphique\n",
    "plt.title('Évolution du nombre habitants à La Réunion par tranche âge entre 2013 et 2050',fontweight=\"bold\") # donne le titre du graphique en gras\n",
    "plt.xlabel('Années')  # donne le titre de l'axe X\n",
    "plt.ylabel('Nombre individus')  # donne le titre de l'axe Y\n",
    "\n",
    "# affiche la légende du graphique\n",
    "plt.legend(bbox_to_anchor=(1.05, 1), loc='upper left', borderaxespad=0.)  # (1.05,1) : position en haut à droite \n",
    "                                                                          # du graphique\n",
    "                                                               \n",
    "\n",
    "#affichage d'une grille avec les lignes principales en gris foncé \n",
    "plt.grid(b=True, which='major', color='#666666', linestyle='--')       \n",
    "\n",
    "# limites inférieures et supérieures des axes x et y\n",
    "plt.xlim(1990, 2050)    # on définit les limites min et max de l'axe X\n",
    "plt.ylim(0, 1100)    # on définit les limites min et max de l'axe Y\n",
    "\n",
    "\n",
    "# affichage du graphique\n",
    "plt.show() "
   ]
  },
  {
   "cell_type": "markdown",
   "metadata": {},
   "source": [
    "<p>\n",
    "    <b>Contruire</b> un graphique avec le deuxième onglet du fichier excel dans la cellule ci-dessous.\n",
    "</p>"
   ]
  },
  {
   "cell_type": "code",
   "execution_count": null,
   "metadata": {},
   "outputs": [],
   "source": [
    "# création de la dataframe\n",
    "\n",
    "\n",
    "#enlève les valeurs manquantes\n",
    "\n",
    "# affichage la dataframe\n"
   ]
  },
  {
   "cell_type": "code",
   "execution_count": null,
   "metadata": {},
   "outputs": [],
   "source": [
    "import matplotlib.pyplot as plt\n",
    "\n",
    "   \n",
    "\n",
    "# désignation des éléments à prendre en compte pour le grahique\n",
    "\n",
    "\n",
    "                 \n",
    "# ajoute des titres au graphique\n",
    "\n",
    "\n",
    "# affiche la légende du graphique\n",
    "\n",
    "                                                               \n",
    "\n",
    "#affichage d'une grille avec les lignes principales en gris foncé \n",
    "     \n",
    "\n",
    "# limites inférieures et supérieures des axes x et y\n",
    "\n",
    "\n",
    "\n",
    "# affichage du graphique\n"
   ]
  }
 ],
 "metadata": {
  "kernelspec": {
   "display_name": "Python 3",
   "language": "python",
   "name": "python3"
  },
  "language_info": {
   "codemirror_mode": {
    "name": "ipython",
    "version": 3
   },
   "file_extension": ".py",
   "mimetype": "text/x-python",
   "name": "python",
   "nbconvert_exporter": "python",
   "pygments_lexer": "ipython3",
   "version": "3.8.5"
  }
 },
 "nbformat": 4,
 "nbformat_minor": 4
}
