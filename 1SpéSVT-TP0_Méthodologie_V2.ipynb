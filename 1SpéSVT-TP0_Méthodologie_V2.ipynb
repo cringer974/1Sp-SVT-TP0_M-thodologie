{
 "cells": [
  {
   "cell_type": "markdown",
   "metadata": {},
   "source": [
    "#           <center>1SPE_SVT - TP0 - RAPPELS ET METHODOLOGIE TECHNIQUE</center>"
   ]
  },
  {
   "cell_type": "markdown",
   "metadata": {},
   "source": [
    "<p style=\"text-align:justify\"> En 2de, durant le thème 4 du cours de SNT, les données structurées, vous aviez analysé et manipulé des tables de données issues du site 'data.gouv' à l'aide d'un environnement pouvant exécuter des instructions en python, Jupyter. Une partie de cette séance est dans le prolongement de ce thème avec toujours l'utilisation de la librairie python  Pandas qui va permettre de créer des dataframes, éléments équivalents aux feuilles de calcul <i>Microsoft Excel</i> ou <i>Libre Office Calcul</i>.<br/>\n",
    "Nous ferons également durant cette activité des rappels en lien avec le cour des SVT de 2de.<br/>\n",
    "<strong>NB :</strong> Dans les lignes de code, le symbôle <FONT color=\"green\">\"#\"</FONT> devance des explications qui ne sont pas pris en compte par l'interpréteur.\n",
    "</p>"
   ]
  },
  {
   "cell_type": "markdown",
   "metadata": {},
   "source": [
    "## **I. Rappels des SVT**"
   ]
  },
  {
   "cell_type": "markdown",
   "metadata": {},
   "source": []
  },
  {
   "cell_type": "markdown",
   "metadata": {},
   "source": [
    "**Etudier** et **exécuter** la cellule ci-dessous (\"Ctrl + Entrée\" après avoir sélectionné la cellule ou clic dans \"Barre d'outils\"). Vous pouvez manipuler la molécules qui apparait à l'aide de la souris et connaitre\n",
    "également les noms des sous-unités constitutives (ne tenir compte que de la 2e lettre entre crochet)."
   ]
  },
  {
   "cell_type": "code",
   "execution_count": null,
   "metadata": {
    "scrolled": true
   },
   "outputs": [],
   "source": [
    "from Bio.PDB import * # importe la gestion des fichier .pdb à partir de la librairie Biopython\n",
    "import nglview # importe la librairie qui permet d'afficher les molécules en 3D\n",
    "view = nglview.show_pdbid(\"1D29\")  # télécharge la molécule \"1D29\" du site RCSB PDB et la stocke dans la variable \"view\"\n",
    "view # affiche la variable \"view\""
   ]
  },
  {
   "cell_type": "markdown",
   "metadata": {},
   "source": [
    "2. **Indiquer**, en le justifiant, le nom de la molécule affichée, sachant que les chaines sont représentées sous forme de ruban."
   ]
  },
  {
   "cell_type": "raw",
   "metadata": {},
   "source": [
    "XXX"
   ]
  },
  {
   "cell_type": "markdown",
   "metadata": {},
   "source": [
    "**Etudier** et **exécuter** le code suivant."
   ]
  },
  {
   "cell_type": "code",
   "execution_count": null,
   "metadata": {},
   "outputs": [],
   "source": [
    "from Bio import SeqIO # importation  du module SeqIO de Biopython pour lire et \n",
    "                      # transformer le contenu d'un fichier de type fasta en suite de caractères exploitable\n",
    " \n",
    "    \n",
    "my_seqlist = []    # variable contenant des listes (crochets)\n",
    "for seq_Bact in SeqIO.parse('E-coli.fas', 'fasta'): # boucle qui va trier et séparer les séquences du fichier .fasta\n",
    "    my_seqlist.append(seq_Bact)  # ajoute les sequences dans des listes séparées dans la variable \"my_seqlist\"\n",
    "   \n",
    "\n",
    "A=my_seqlist[0].seq  # Met uniquement la première séquence de nucleotide sans son ID dans la variable A\n",
    "B=my_seqlist[1].seq  # Met uniquement la deuxième séquence de nucleotide sans son ID dans la variable B \n",
    "print(\"Séquence 1 =\",A) # affiche le contenu de A, précédé de l'expression entre guillemet\n",
    "print(\"Séquence 2 =\",B)"
   ]
  },
  {
   "cell_type": "markdown",
   "metadata": {},
   "source": [
    "3. **Comparer** les deux séquences affichées, de fragments d'ADN, appartenant à une bactérie, *Escherischia coli*. **Justifier** votre réponse."
   ]
  },
  {
   "cell_type": "raw",
   "metadata": {},
   "source": [
    "XXX"
   ]
  },
  {
   "cell_type": "markdown",
   "metadata": {},
   "source": [
    "4. Comment nomme-t-on ces différences entre les séquences de nucléotides ?"
   ]
  },
  {
   "cell_type": "raw",
   "metadata": {},
   "source": [
    "XXX"
   ]
  },
  {
   "cell_type": "markdown",
   "metadata": {},
   "source": [
    "**Etudier** et **exécuter** le code suivant."
   ]
  },
  {
   "cell_type": "code",
   "execution_count": null,
   "metadata": {
    "scrolled": true
   },
   "outputs": [],
   "source": [
    "from Bio import SeqIO # importation  du module SeqIO de Biopython pour lire et \n",
    "                      # transformer le contenu d'un fichier de type fasta en suite de caractères exploitable\n",
    " \n",
    "    \n",
    "my_seqlist2 = []    # variable contenant des listes (crochets)\n",
    "for seq_adn in SeqIO.parse('Sequences.fas', 'fasta'): # boucle qui va trier et séparer les séquences du fichier .fasta\n",
    "    my_seqlist2.append(seq_adn)  # ajoute les sequences dans des listes séparées dans la variable \"my_seqlist\"\n",
    "   \n",
    "\n",
    "rhesus=my_seqlist2[0].seq  \n",
    "globA=my_seqlist2[1].seq  \n",
    "tyr=my_seqlist2[2].seq\n",
    "\n",
    "print(\"rh_adn =\",rhesus) \n",
    "print(\"Nombe nucléotides de rh_adn =\",len(rhesus))\n",
    "print(\"hb_adn =\",globA)\n",
    "print(\"Nombe nucléotides de hb_adn =\",len(globA))\n",
    "print(\"tyr_adn =\",tyr)\n",
    "print(\"Nombe nucléotides de tyr_adn =\",len(tyr))"
   ]
  },
  {
   "cell_type": "markdown",
   "metadata": {},
   "source": [
    "Ci-dessus, vous avez affiché un fragment d'un allèle de chacun des trois gènes : une seule chaine est représentée.\n",
    "5. **Comparer** les séquences génétiques et **expliquer** comment des informations différentes peuvent être codées par l'ADN, sachant que rh_adn permet de produire le facteur \"rhésus\", hb_adn permet aux cellules sanguines de produire la Alpha-globine et tyr_adn, la tyrosinase, une enzyme."
   ]
  },
  {
   "cell_type": "raw",
   "metadata": {},
   "source": [
    "XXX"
   ]
  },
  {
   "cell_type": "markdown",
   "metadata": {},
   "source": [
    "## II. Méthodologie liée à Python"
   ]
  },
  {
   "cell_type": "markdown",
   "metadata": {},
   "source": [
    "Dans le fichier *méthodologie.xlsx*, à partir de l’onglet *Démographie*, en utilisant la fiche technique  \n",
    "du tableur pour *Libre Office* ou *Microsoft Office*, **construire** le graphique de type dispersion, sous \n",
    "*Libre Office*, ou nuage de points, sous *Microsoft Office*, donnant le nombre d’individus en fonction des \n",
    "années pour toutes les tranches d'âge."
   ]
  },
  {
   "cell_type": "markdown",
   "metadata": {},
   "source": [
    "<p style=\"text-align:center\">\n",
    "    <b>APPELER L'ENSEIGNANT POUR VERIFICATION</b>\n",
    "</p>"
   ]
  },
  {
   "cell_type": "markdown",
   "metadata": {},
   "source": [
    "**Analyser** le code *Python* ci-dessous et **l'éxécuter** (bouton *Run* ou *Exécuter*)"
   ]
  },
  {
   "cell_type": "code",
   "execution_count": null,
   "metadata": {},
   "outputs": [],
   "source": [
    "# Importation des données de démographie que vous avez déjà traitées\n",
    "# sous excel et création une dataframe.\n",
    "\n",
    "import pandas as pd # importe la librairie pandas et utilise l'alias pd\n",
    "\n",
    "# création de la dataframe\n",
    "demographie = pd.read_excel('1SpéSVT-TP0_Méthodologie.xlsx', sheet_name='Demographie', skiprows=3, usecols=range(0,5)) \n",
    "# met le fichier Excel désigné dans une dataframe nommée demographie.\n",
    "# on travaille sur l'onglet \"Demographie\" du fichier \"Methodologie.xlsx\". \n",
    "# la première ligne de la feuille Excel n'est pas prise en compte (d'où le skiprows)\n",
    "# Seules les colonnes 1 (année) à 5 (ensemble) sont utilisées.\n",
    "# La première colonne est numérotée 0 par Python. D'où le \"range(0,5)\"\n",
    "\n",
    "demographie=demographie.dropna()\n",
    "#enlève les valeurs manquantes\n",
    "\n",
    "# affichage la dataframe\n",
    "print(demographie) \n",
    "\n",
    "# La première colonne lisible dans la dataframe ci-dessous (chiffrée de 0 à 10) correspond à l'indexation des lignes de \n",
    "# la dataframe et aide\n",
    "# à localiser les cellules. La première ligne correspond à l'en-tête. Elle n'est pas comptabilisée et comporte les noms \n",
    "# des colonnes.\n",
    "# Donc, le fonctionnement de la dataframe est comparable à celle d'une feuille de tableur"
   ]
  },
  {
   "cell_type": "markdown",
   "metadata": {},
   "source": [
    "**Analyser** le code *Python* ci-dessous et **l'éxécuter** (bouton *Run* ou *Exécuter*)"
   ]
  },
  {
   "cell_type": "code",
   "execution_count": null,
   "metadata": {},
   "outputs": [],
   "source": [
    "# importation de la librairie matplotlib et son module pyplot spécialisé dans la création de graphique\n",
    "\n",
    "import matplotlib.pyplot as plt \n",
    "\n",
    "x1='Annee'                # x1 est une variable, soit une zone de stockage d'information\n",
    "y1= usecols=range(1,5)    # le fonctionnement de Python fait que l'on se doit de mettre 5 en limite supérieur. En effet,\n",
    "                          # le langage exclut le dernier élément de l'intervalle et garde le précédent\n",
    "\n",
    "# désignation des éléments à prendre en compte pour le grahique\n",
    "\n",
    "d1=demographie.plot(x1,y1)\n",
    "                                                         # utilise la dataframe \"demographie\" \n",
    "                                                         # pour construire un graphique avec\n",
    "                                                         # comme source de données la variable x1 qui est                                                         # pour le graphique en précisant que la colonne \"année\" \n",
    "                                                         # est en abscisse et la variable y1  concernant\n",
    "                                                         # les 4 tranches d'âge de \"population\" en\n",
    "                                                         # ordonnée\n",
    "                 \n",
    "# ajoute des titres au graphique\n",
    "plt.title('Évolution du nombre habitants à La Réunion par tranche âge entre 2013 et 2050',fontweight=\"bold\") # donne le titre du graphique en gras\n",
    "plt.xlabel('Années')  # donne le titre de l'axe X\n",
    "plt.ylabel('Nombre individus')  # donne le titre de l'axe Y\n",
    "\n",
    "# affiche la légende du graphique\n",
    "plt.legend(bbox_to_anchor=(1.05, 1), loc='upper left', borderaxespad=0.)  # (1.05,1) : position en haut à droite \n",
    "                                                                          # du graphique\n",
    "                                                               \n",
    "\n",
    "#affichage d'une grille avec les lignes principales en gris foncé \n",
    "plt.grid(b=True, which='major', color='#666666', linestyle='--')       \n",
    "\n",
    "# limites inférieures et supérieures des axes x et y\n",
    "plt.xlim(1990, 2050)    # on définit les limites min et max de l'axe X\n",
    "plt.ylim(0, 1100)    # on définit les limites min et max de l'axe Y\n",
    "\n",
    "\n",
    "# affichage du graphique\n",
    "plt.show() "
   ]
  },
  {
   "cell_type": "markdown",
   "metadata": {},
   "source": [
    "1. **Contruire** un graphique avec le deuxième onglet du fichier excel dans la cellule ci-dessous."
   ]
  },
  {
   "cell_type": "code",
   "execution_count": null,
   "metadata": {},
   "outputs": [],
   "source": [
    "# importation de la librairie\n",
    "\n",
    "\n",
    "\n",
    "# création de la dataframe\n",
    "\n",
    "\n",
    "\n",
    "#enlève les valeurs manquantes\n",
    "\n",
    "\n",
    "\n",
    "# affichage la dataframe\n"
   ]
  },
  {
   "cell_type": "code",
   "execution_count": null,
   "metadata": {},
   "outputs": [],
   "source": [
    "# importation de la librairie\n",
    "\n",
    "\n",
    "   \n",
    "\n",
    "# désignation des éléments à prendre en compte pour le grahique\n",
    "\n",
    "\n",
    "                 \n",
    "# ajoute des titres au graphique\n",
    "\n",
    "\n",
    "\n",
    "# affiche la légende du graphique\n",
    "\n",
    "                                                               \n",
    "\n",
    "#affichage d'une grille avec les lignes principales en gris foncé \n",
    "     \n",
    "\n",
    "    \n",
    "# limites inférieures et supérieures des axes x et y\n",
    "\n",
    "\n",
    "\n",
    "# affichage du graphique\n"
   ]
  },
  {
   "cell_type": "markdown",
   "metadata": {},
   "source": [
    "2. **Analyser** le graphique obtenu."
   ]
  },
  {
   "cell_type": "raw",
   "metadata": {},
   "source": [
    "XXX"
   ]
  }
 ],
 "metadata": {
  "kernelspec": {
   "display_name": "Python 3",
   "language": "python",
   "name": "python3"
  },
  "language_info": {
   "codemirror_mode": {
    "name": "ipython",
    "version": 3
   },
   "file_extension": ".py",
   "mimetype": "text/x-python",
   "name": "python",
   "nbconvert_exporter": "python",
   "pygments_lexer": "ipython3",
   "version": "3.8.3"
  }
 },
 "nbformat": 4,
 "nbformat_minor": 4
}
