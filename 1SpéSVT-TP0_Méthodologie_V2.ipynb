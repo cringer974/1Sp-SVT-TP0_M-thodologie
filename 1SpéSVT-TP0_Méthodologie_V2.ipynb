{
 "cells": [
  {
   "cell_type": "markdown",
   "metadata": {},
   "source": [
    "#           <center>1SPE_SVT - TP0 - RAPPELS ET METHODOLOGIE TECHNIQUE</center>"
   ]
  },
  {
   "cell_type": "markdown",
   "metadata": {},
   "source": [
    "Cette séance a pour but de vous remettre en contact avec l'environnement Jupyter (utilisé en SNT et peut-être en Mathématiques), servant à programmer en Python, entre autre, tout en vous permettant de revoir des notions aborder en SVT durant l'année de 2de. <br/> Elle sert de base technique au TP1.\n",
    "\n",
    "**NB :** Dans les lignes de code, le symbôle <FONT color=\"green\">\"#\"</FONT> devance des explications qui ne sont pas pris en compte par l'interpréteur."
   ]
  },
  {
   "cell_type": "markdown",
   "metadata": {},
   "source": [
    "## I. Rappels des notions de Seconde en SVT"
   ]
  },
  {
   "cell_type": "markdown",
   "metadata": {},
   "source": [
    "1. **Donner** les éléments constitutifs d'une cellule."
   ]
  },
  {
   "cell_type": "raw",
   "metadata": {},
   "source": [
    "XXXXXXXXXX"
   ]
  },
  {
   "cell_type": "markdown",
   "metadata": {},
   "source": [
    "2. **Définir** ce que sont les procaryotes et les eucaryotes."
   ]
  },
  {
   "cell_type": "raw",
   "metadata": {},
   "source": [
    "XXXXXXXXXX"
   ]
  },
  {
   "cell_type": "markdown",
   "metadata": {},
   "source": [
    "3. **Citer** 2 métabolismes présents chez les organismes hétérotrophes."
   ]
  },
  {
   "cell_type": "raw",
   "metadata": {},
   "source": [
    "XXXXXXXXXX"
   ]
  },
  {
   "cell_type": "markdown",
   "metadata": {},
   "source": [
    "4. **Donner** le principe de la photosynthèse."
   ]
  },
  {
   "cell_type": "raw",
   "metadata": {},
   "source": [
    "XXXXXXXXXX"
   ]
  },
  {
   "cell_type": "markdown",
   "metadata": {},
   "source": [
    "**Etudier** et **exécuter** la cellule ci-dessous (\"Ctrl + Entrée\" après avoir sélectionné la cellule ou clic dans \"Barre d'outils\"). Vous pouvez manipuler la molécules qui apparait à l'aide de la souris et connaitre\n",
    "également les noms des sous-unités constitutives (ne tenir compte que de la 2e lettre entre crochet)."
   ]
  },
  {
   "cell_type": "code",
   "execution_count": null,
   "metadata": {
    "scrolled": true
   },
   "outputs": [],
   "source": [
    "from Bio.PDB import * # importe la gestion des fichier .pdb à partir de la librairie Biopython\n",
    "import nglview # importe la librairie qui permet d'afficher les molécules en 3D\n",
    "\n",
    "view = nglview.show_pdbid(\"1d29\")  # télécharge la molécule \"1D29\" du site RCSB PDB et la stocke dans la variable \"view\"\n",
    "#par défaut, la molécule s'affiche sous forme de rubans\n",
    "\n",
    "view.add_representation(repr_type='ball+stick', selection='residue', color='residueindex') # affiche les résidus sous forme\n",
    "# de sphéres et batonnets et attribue une color à chaque type de résidus\n",
    "\n",
    "view # affiche le contenu de la variable \"view\""
   ]
  },
  {
   "cell_type": "markdown",
   "metadata": {},
   "source": [
    "5. **Indiquer**, en le justifiant, le nom de la molécule affichée, sachant que les chaines sont représentées sous forme de ruban. <br/>\n",
    "\n",
    "**NB :** <br/>\n",
    "*Vous pouvez manipuler la molécule à l'aide de la souris et passer le curseur au dessus pour avoir des renseignements sur sa composition (DT=T, DA=A, DC=C et DG=G).*<br/>\n",
    "*Pour passer en plein écran, cliquer sur l'icône située en haut à droite dans le \"viewer\" de molécule.*<br/>"
   ]
  },
  {
   "cell_type": "raw",
   "metadata": {},
   "source": [
    "XXXXXXXXXX"
   ]
  },
  {
   "cell_type": "markdown",
   "metadata": {},
   "source": [
    "**Etudier** et **exécuter** le code suivant."
   ]
  },
  {
   "cell_type": "code",
   "execution_count": null,
   "metadata": {
    "scrolled": true
   },
   "outputs": [],
   "source": [
    "import pandas as pd   # importation de la librairie Pandas pour traiter des données\n",
    "from Bio import SeqIO # importation  du module SeqIO de Biopython pour lire et \n",
    "                      # transformer le contenu d'un fichier de type fasta en suite de caractères exploitable\n",
    " \n",
    "    \n",
    "my_seqlist2 = []    # variable contenant des listes (crochets)\n",
    "for seq_adn in SeqIO.parse('Sequences.fas', 'fasta'): # boucle qui va trier et séparer les séquences du fichier .fasta\n",
    "    my_seqlist2.append(seq_adn)  # ajoute les sequences dans des listes séparées dans la variable \"my_seqlist\"\n",
    "   \n",
    "rhesus=my_seqlist2[0].seq  # met la première liste obtenue dans la variable rhesus (python compte à partir de 0)\n",
    "globA=my_seqlist2[1].seq  \n",
    "ty=my_seqlist2[2].seq\n",
    "\n",
    "print(\"Nombre de nucléotides séquence rhésus =\", len(rhesus))\n",
    "print(\"Nombre de nucléotides séquence globine A =\", len(globA))\n",
    "print(\"Nombre de nucléotides séquence tyrosinase =\", len(ty))\n",
    "print(\"rh_adn_seq =\",rhesus) # affiche le contenu de la variable rhesus\n",
    "print(\"hb_adn_seq =\",globA)\n",
    "print(\"ty_adn_seq =\",ty)"
   ]
  },
  {
   "cell_type": "markdown",
   "metadata": {},
   "source": [
    "Ci-dessus, vous avez affiché un fragment d'un allèle de chacun des trois gènes : une seule chaine est représentée.\n",
    "\n",
    "2. **Comparer** les séquences génétiques et **expliquer** comment des informations différentes peuvent être codées par l'ADN, sachant que rh_adn permet de produire le facteur \"rhésus\", hb_adn permet aux cellules sanguines de produire la Alpha-globine et tyr_adn, la tyrosinase, une enzyme."
   ]
  },
  {
   "cell_type": "raw",
   "metadata": {},
   "source": [
    "XXXXXXXXXX"
   ]
  },
  {
   "cell_type": "markdown",
   "metadata": {},
   "source": [
    "**Etudier** et **exécuter** le code suivant."
   ]
  },
  {
   "cell_type": "code",
   "execution_count": null,
   "metadata": {},
   "outputs": [],
   "source": [
    "import pandas as pd\n",
    "from Bio import SeqIO # importation  du module SeqIO de Biopython pour lire et \n",
    "                      # transformer le contenu d'un fichier de type fasta en suite de caractères exploitable\n",
    "\n",
    "my_seqlist = []    # variable contenant des listes (crochets)\n",
    "for seq_Bact in SeqIO.parse('E-coli.fas', 'fasta'): # boucle qui va trier et séparer les séquences du fichier .fasta\n",
    "    my_seqlist.append(seq_Bact)  # ajoute les sequences dans des listes séparées dans la variable \"my_seqlist\"\n",
    "   \n",
    "A=my_seqlist[1].seq  # Met uniquement la première séquence de nucleotide sans son ID dans la variable A\n",
    "B=my_seqlist[2].seq  # Met uniquement la deuxième séquence de nucleotide sans son ID dans la variable B \n",
    "\n",
    "print(\"Séquence 1 =\",A) # affiche le contenu de A, précédé de l'expression entre guillemet\n",
    "print(\"Séquence 2 =\",B)"
   ]
  },
  {
   "cell_type": "markdown",
   "metadata": {},
   "source": [
    "3. **Comparer** les deux séquences de nucléotides affichées appartenant à une bactérie, *Escherischia coli*."
   ]
  },
  {
   "cell_type": "raw",
   "metadata": {},
   "source": [
    "XXXXXXXXX"
   ]
  },
  {
   "cell_type": "markdown",
   "metadata": {},
   "source": [
    "4. Comment nomme-t-on ces différences entre les séquences de nucléotides ?"
   ]
  },
  {
   "cell_type": "raw",
   "metadata": {},
   "source": [
    "XXXXXXXXX"
   ]
  },
  {
   "cell_type": "markdown",
   "metadata": {},
   "source": [
    "## II. Construction de graphiques sous Python et analyse"
   ]
  },
  {
   "cell_type": "markdown",
   "metadata": {},
   "source": [
    "En 2de, durant le thème 4 de SNT, *les données structurées*, vous avez vu le traitement données issues d'un fichier au format *.csv*, entre autre, afin d'obtenir une dataframe à l'aide de la librairie Pandas. Nous allons revenir sur ce travail et aller plus loin en voyant la création de graphique.<br/>\n",
    "Pour plus de clarté, l'obtention de la Dataframe et la création du graphique sont réalisées dans deux cellules différentes."
   ]
  },
  {
   "cell_type": "markdown",
   "metadata": {},
   "source": [
    "On réalise une étude du métabolisme des levure à l'aide du dispositif EXAO : Les mesures sont réalisées durant 6 minutes à l'aide d'une sonde à CO<sub>2</sub> et d'une à O<sub>2</sub>. On injecte du glucose au bout de 2 minutes.Les données sont exportées au format *.csv* pour être traité à l'aide d'un programme Python.<br/>\n",
    "**Analyser** le code *Python* ci-dessous qui concerne la création d'une Dataframe à partir d'un fichier *.csv*, se trouvant dans le même répertoire que ce Notebook, et **l'éxécuter** (bouton *Run* ou *Exécuter*)"
   ]
  },
  {
   "cell_type": "code",
   "execution_count": null,
   "metadata": {},
   "outputs": [],
   "source": [
    "# importation de la librairie pandas et utilisation de l'alias pd\n",
    "import pandas as pd \n",
    "\n",
    "# création de la dataframe\n",
    "respiration = pd.read_csv('respiration_lev.csv', sep=\";\")\n",
    "# met le fichier csv désigné dans une dataframe nommée respiration ; les séparateurs sont de type \";\"\n",
    "\n",
    "# affichage de la dataframe\n",
    "print(respiration) "
   ]
  },
  {
   "cell_type": "markdown",
   "metadata": {},
   "source": [
    "La *dataframe* s'est affichée ci-dessus :\n",
    "- La première colonne lisible, chiffrée de 0 à 6, correspond à l'indexation des lignes de la dataframe et aide à localiser les cellules (il est à noter que Python commence à compter à partir de 0).\n",
    "- La première ligne correspond à l'en-tête. Elle comporte le nom des colonnes et n'est pas comptabilisée.\n",
    "\n",
    "Le fonctionnement de la dataframe est comparable à celui d'une feuille de tableur"
   ]
  },
  {
   "cell_type": "markdown",
   "metadata": {},
   "source": [
    "Maintenant, nous allons aborder une nouveauté : la construction d'un graphique à partir d'une *dataframe*.\n",
    "\n",
    "**Analyser** le code *Python* ci-dessous et **l'éxécuter** (bouton *Run* ou *Exécuter*)"
   ]
  },
  {
   "cell_type": "code",
   "execution_count": null,
   "metadata": {},
   "outputs": [],
   "source": [
    "# importation de la librairie matplotlib et son module pyplot spécialisé dans la création de graphique\n",
    "import matplotlib.pyplot as plt \n",
    "\n",
    "# stockage des données à prendre en compte dans des variables\n",
    "x= 'Temps_(min)'        \n",
    "y1= 'O2_(mg/L)'      \n",
    "y2= 'CO2_(mg/L)'    \n",
    "\n",
    "plt.figure(figsize=(10,7)) # créé une figure et indique la largeur et la hauteur de celle-ci\n",
    "\n",
    "# désignation des éléments à prendre en compte pour le grahique\n",
    "plt.plot(respiration[x],respiration[y1], label='Quantité O2' ) # trace la courbe de la quantité d'O2 à partir de la df respiration\n",
    "plt.plot(respiration[x],respiration[y2], label='Quantité CO2') #\n",
    "\n",
    "# ajoute une annotation ainsi qu'une flèche sur le graphique - les valeurs entre parenthèses sont des coordonnées\n",
    "plt.annotate('Injection de glucose', xy=(2, 0),xytext=(1.47,10), arrowprops={'facecolor':'black','arrowstyle':'->'})\n",
    "\n",
    "# ajoute des titres au graphique\n",
    "plt.title('Évolution de la concentration en O2 et CO2 en fonction du temps',fontweight=\"bold\") # donne le titre du graphique en gras\n",
    "plt.xlabel('Temps (en minutes)') # dénomme l'axe X\n",
    "plt.ylabel('Concentration en gaz (mg/L)')  # dénomme l'axe y\n",
    "\n",
    "\n",
    "# affiche la légende du graphique\n",
    "plt.legend(bbox_to_anchor=(1.05, 1), loc='upper left', borderaxespad=0.)  # (1.05,1) = position en haut à droite \n",
    "                                                                          # du graphique\n",
    "                                                               \n",
    "\n",
    "# affichage d'une grille avec les lignes principales en gris foncé \n",
    "plt.grid(True)       \n",
    "\n",
    "# limites inférieures et supérieures des axes x et y, soit [xmin,xmax,ymin,ymax]\n",
    "plt.axis([0,6,0,36])    \n",
    "\n",
    "# affichage du graphique\n",
    "plt.show() "
   ]
  },
  {
   "cell_type": "markdown",
   "metadata": {},
   "source": [
    "1. **Analyser** le graphique obtenu."
   ]
  },
  {
   "cell_type": "raw",
   "metadata": {},
   "source": [
    "XXXXXXXXXX"
   ]
  },
  {
   "cell_type": "markdown",
   "metadata": {},
   "source": [
    "2. **Contruire** un graphique à partir du fichier *photosynthese_eugl.csv*.<br/>\n",
    "\n",
    "**NB :** **changer** le nom des variables <br/>\n",
    "Les mesures commencent à l'obscurité. On allume la lumière à partir de 5 minutes et on l'éteint à partir de 15 minutes. Il est possible de faire figurer les changements de condition sur le graphique en rajoutant des commandes spécifiques sous matplotlib. Ceci sera vu durant la correction."
   ]
  },
  {
   "cell_type": "code",
   "execution_count": null,
   "metadata": {},
   "outputs": [],
   "source": [
    "# importation de la librairie pandas et utilisation de l'alias pd\n",
    "\n",
    "\n",
    "# création de la dataframe\n",
    "\n",
    "\n",
    "# affichage de la dataframe\n"
   ]
  },
  {
   "cell_type": "code",
   "execution_count": null,
   "metadata": {
    "scrolled": true
   },
   "outputs": [],
   "source": [
    "# importation de la librairie matplotlib et son module pyplot spécialisé dans la création de graphique\n",
    "\n",
    "\n",
    "# stockage des données à prendre en compte dans des variables\n",
    "\n",
    "\n",
    "\n",
    "\n",
    "\n",
    "# désignation des éléments à prendre en compte pour le grahique\n",
    "\n",
    "                                                      \n",
    "# ajoute des titres au graphique\n",
    "\n",
    "\n",
    "# affiche la légende du graphique\n",
    "\n",
    "                                                               \n",
    "\n",
    "# affichage d'une grille avec les lignes principales en gris foncé \n",
    "      \n",
    "\n",
    "\n",
    "# limites inférieures et supérieures des axes x et y, soit [xmin,xmax,ymin,ymax]\n",
    "   \n",
    "\n",
    "# affichage du graphique dans son ensemble\n"
   ]
  },
  {
   "cell_type": "markdown",
   "metadata": {},
   "source": [
    "3. **Analyser** le graphique obtenu."
   ]
  },
  {
   "cell_type": "raw",
   "metadata": {},
   "source": [
    "XXXXXXXXXX"
   ]
  }
 ],
 "metadata": {
  "kernelspec": {
   "display_name": "Python 3",
   "language": "python",
   "name": "python3"
  },
  "language_info": {
   "codemirror_mode": {
    "name": "ipython",
    "version": 3
   },
   "file_extension": ".py",
   "mimetype": "text/x-python",
   "name": "python",
   "nbconvert_exporter": "python",
   "pygments_lexer": "ipython3",
   "version": "3.8.3"
  }
 },
 "nbformat": 4,
 "nbformat_minor": 4
}
